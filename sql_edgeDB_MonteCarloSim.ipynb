{
 "cells": [
  {
   "cell_type": "code",
   "execution_count": 33,
   "metadata": {},
   "outputs": [],
   "source": [
    "import psycopg2\n",
    "import csv\n",
    "import pandas as pd\n",
    "import numpy as np\n",
    "from datetime import datetime,date\n",
    "import matplotlib.pyplot as plt\n",
    "from mpl_toolkits.mplot3d import Axes3D\n",
    "\n",
    "%matplotlib inline\n"
   ]
  },
  {
   "cell_type": "code",
   "execution_count": 34,
   "metadata": {},
   "outputs": [],
   "source": [
    "db_connection = psycopg2.connect(host='129.105.248.26',dbname=\"walmart\", user=\"yzq1348\" , password=\"northwestern password\")\n",
    "\n",
    "\n",
    "cursor = db_connection.cursor()"
   ]
  },
  {
   "cell_type": "code",
   "execution_count": 35,
   "metadata": {},
   "outputs": [],
   "source": [
    "cursor.execute(\"SELECT Store, Dept, Weekly_Sales, IsHoliday from weekly_sales ORDER BY Date DESC LIMIT 100\")\n",
    "rows=cursor.fetchall()"
   ]
  },
  {
   "cell_type": "code",
   "execution_count": 36,
   "metadata": {},
   "outputs": [
    {
     "data": {
      "text/html": [
       "<div>\n",
       "<style scoped>\n",
       "    .dataframe tbody tr th:only-of-type {\n",
       "        vertical-align: middle;\n",
       "    }\n",
       "\n",
       "    .dataframe tbody tr th {\n",
       "        vertical-align: top;\n",
       "    }\n",
       "\n",
       "    .dataframe thead th {\n",
       "        text-align: right;\n",
       "    }\n",
       "</style>\n",
       "<table border=\"1\" class=\"dataframe\">\n",
       "  <thead>\n",
       "    <tr style=\"text-align: right;\">\n",
       "      <th></th>\n",
       "      <th>Store</th>\n",
       "      <th>Dept</th>\n",
       "      <th>Weekly_Sales</th>\n",
       "      <th>IsHoliday</th>\n",
       "    </tr>\n",
       "  </thead>\n",
       "  <tbody>\n",
       "    <tr>\n",
       "      <th>0</th>\n",
       "      <td>24</td>\n",
       "      <td>7</td>\n",
       "      <td>21461.95</td>\n",
       "      <td>False</td>\n",
       "    </tr>\n",
       "    <tr>\n",
       "      <th>1</th>\n",
       "      <td>24</td>\n",
       "      <td>29</td>\n",
       "      <td>4984.47</td>\n",
       "      <td>False</td>\n",
       "    </tr>\n",
       "    <tr>\n",
       "      <th>2</th>\n",
       "      <td>23</td>\n",
       "      <td>85</td>\n",
       "      <td>3935.06</td>\n",
       "      <td>False</td>\n",
       "    </tr>\n",
       "    <tr>\n",
       "      <th>3</th>\n",
       "      <td>24</td>\n",
       "      <td>6</td>\n",
       "      <td>3061.18</td>\n",
       "      <td>False</td>\n",
       "    </tr>\n",
       "    <tr>\n",
       "      <th>4</th>\n",
       "      <td>24</td>\n",
       "      <td>20</td>\n",
       "      <td>3892.23</td>\n",
       "      <td>False</td>\n",
       "    </tr>\n",
       "    <tr>\n",
       "      <th>...</th>\n",
       "      <td>...</td>\n",
       "      <td>...</td>\n",
       "      <td>...</td>\n",
       "      <td>...</td>\n",
       "    </tr>\n",
       "    <tr>\n",
       "      <th>95</th>\n",
       "      <td>23</td>\n",
       "      <td>52</td>\n",
       "      <td>2859.55</td>\n",
       "      <td>False</td>\n",
       "    </tr>\n",
       "    <tr>\n",
       "      <th>96</th>\n",
       "      <td>24</td>\n",
       "      <td>9</td>\n",
       "      <td>22928.77</td>\n",
       "      <td>False</td>\n",
       "    </tr>\n",
       "    <tr>\n",
       "      <th>97</th>\n",
       "      <td>23</td>\n",
       "      <td>7</td>\n",
       "      <td>33096.71</td>\n",
       "      <td>False</td>\n",
       "    </tr>\n",
       "    <tr>\n",
       "      <th>98</th>\n",
       "      <td>23</td>\n",
       "      <td>1</td>\n",
       "      <td>57391.58</td>\n",
       "      <td>False</td>\n",
       "    </tr>\n",
       "    <tr>\n",
       "      <th>99</th>\n",
       "      <td>24</td>\n",
       "      <td>30</td>\n",
       "      <td>3863.05</td>\n",
       "      <td>False</td>\n",
       "    </tr>\n",
       "  </tbody>\n",
       "</table>\n",
       "<p>100 rows × 4 columns</p>\n",
       "</div>"
      ],
      "text/plain": [
       "    Store  Dept  Weekly_Sales  IsHoliday\n",
       "0      24     7      21461.95      False\n",
       "1      24    29       4984.47      False\n",
       "2      23    85       3935.06      False\n",
       "3      24     6       3061.18      False\n",
       "4      24    20       3892.23      False\n",
       "..    ...   ...           ...        ...\n",
       "95     23    52       2859.55      False\n",
       "96     24     9      22928.77      False\n",
       "97     23     7      33096.71      False\n",
       "98     23     1      57391.58      False\n",
       "99     24    30       3863.05      False\n",
       "\n",
       "[100 rows x 4 columns]"
      ]
     },
     "execution_count": 36,
     "metadata": {},
     "output_type": "execute_result"
    }
   ],
   "source": [
    "total_weekly_100 = pd.DataFrame(rows, columns=['Store','Dept','Weekly_Sales','IsHoliday'])\n",
    "total_weekly_100"
   ]
  },
  {
   "cell_type": "code",
   "execution_count": 37,
   "metadata": {},
   "outputs": [],
   "source": [
    "import time"
   ]
  },
  {
   "cell_type": "code",
   "execution_count": 38,
   "metadata": {},
   "outputs": [
    {
     "name": "stdout",
     "output_type": "stream",
     "text": [
      "Execution time: 0.6518526077270508 seconds\n"
     ]
    }
   ],
   "source": [
    "start = time.time()\n",
    "cursor.execute(\"SELECT Store, Dept, Weekly_Sales, IsHoliday from weekly_sales ORDER BY Date DESC LIMIT 100\")\n",
    "end = time.time()\n",
    "elapsed_time = end - start\n",
    "print('Execution time:', elapsed_time, 'seconds')"
   ]
  },
  {
   "cell_type": "code",
   "execution_count": 39,
   "metadata": {},
   "outputs": [
    {
     "name": "stdout",
     "output_type": "stream",
     "text": [
      "CPU Execution time: 0.00268000000000157 seconds\n"
     ]
    }
   ],
   "source": [
    "st= time.process_time()\n",
    "cursor.execute(\"SELECT Store, Dept, Weekly_Sales, IsHoliday from weekly_sales ORDER BY Date DESC LIMIT 100\")\n",
    "et = time.process_time()\n",
    "res = et - st\n",
    "print('CPU Execution time:', res, 'seconds')"
   ]
  },
  {
   "cell_type": "code",
   "execution_count": 40,
   "metadata": {},
   "outputs": [
    {
     "name": "stdout",
     "output_type": "stream",
     "text": [
      "Execution time: 0.7269477844238281 seconds\n"
     ]
    }
   ],
   "source": [
    "start2 = time.time()\n",
    "cursor.execute(\"SELECT Store, Dept, Weekly_Sales, IsHoliday from weekly_sales ORDER BY Date DESC LIMIT 500\")\n",
    "end2 = time.time()\n",
    "elapsed_time2 = end2 - start2\n",
    "print('Execution time:', elapsed_time2, 'seconds')"
   ]
  },
  {
   "cell_type": "code",
   "execution_count": 41,
   "metadata": {},
   "outputs": [
    {
     "name": "stdout",
     "output_type": "stream",
     "text": [
      "CPU Execution time: 0.0029450000000004195 seconds\n"
     ]
    }
   ],
   "source": [
    "st2 = time.process_time()\n",
    "cursor.execute(\"SELECT Store, Dept, Weekly_Sales, IsHoliday from weekly_sales ORDER BY Date DESC LIMIT 500\")\n",
    "et2 = time.process_time()\n",
    "res2 = et2 - st2\n",
    "print('CPU Execution time:', res2, 'seconds')"
   ]
  },
  {
   "cell_type": "code",
   "execution_count": 42,
   "metadata": {},
   "outputs": [],
   "source": [
    "import datetime\n",
    "import edgedb"
   ]
  },
  {
   "cell_type": "code",
   "execution_count": 43,
   "metadata": {
    "scrolled": true
   },
   "outputs": [
    {
     "name": "stdout",
     "output_type": "stream",
     "text": [
      "Execution time: 0.00014495849609375 seconds\n",
      "CPU Execution time: 0.00016300000000057935 seconds\n"
     ]
    }
   ],
   "source": [
    "start3 = time.time()\n",
    "st3 = time.process_time()\n",
    "def main():\n",
    "    client = edgedb.create_client()\n",
    "    user_set = client.query(\n",
    "        \"SELECT * from weekly_sales ORDER BY Date DESC LIMIT 500\")\n",
    "    client.close()\n",
    "end3 = time.time()\n",
    "elapsed_time3 = end3 - start3\n",
    "et3 = time.process_time()\n",
    "res3 = et3 - st3\n",
    "print('Execution time:', elapsed_time3, 'seconds')\n",
    "print('CPU Execution time:', res3, 'seconds')"
   ]
  },
  {
   "cell_type": "code",
   "execution_count": 44,
   "metadata": {},
   "outputs": [],
   "source": [
    "cursor.execute(\"SELECT Store, Dept, Weekly_Sales, IsHoliday from weekly_sales ORDER BY Date DESC\")\n",
    "rows=cursor.fetchall()"
   ]
  },
  {
   "cell_type": "code",
   "execution_count": 45,
   "metadata": {},
   "outputs": [
    {
     "data": {
      "text/html": [
       "<div>\n",
       "<style scoped>\n",
       "    .dataframe tbody tr th:only-of-type {\n",
       "        vertical-align: middle;\n",
       "    }\n",
       "\n",
       "    .dataframe tbody tr th {\n",
       "        vertical-align: top;\n",
       "    }\n",
       "\n",
       "    .dataframe thead th {\n",
       "        text-align: right;\n",
       "    }\n",
       "</style>\n",
       "<table border=\"1\" class=\"dataframe\">\n",
       "  <thead>\n",
       "    <tr style=\"text-align: right;\">\n",
       "      <th></th>\n",
       "      <th>Store</th>\n",
       "      <th>Dept</th>\n",
       "      <th>Weekly_Sales</th>\n",
       "      <th>IsHoliday</th>\n",
       "    </tr>\n",
       "  </thead>\n",
       "  <tbody>\n",
       "    <tr>\n",
       "      <th>0</th>\n",
       "      <td>35</td>\n",
       "      <td>6</td>\n",
       "      <td>2002.85</td>\n",
       "      <td>False</td>\n",
       "    </tr>\n",
       "    <tr>\n",
       "      <th>1</th>\n",
       "      <td>33</td>\n",
       "      <td>79</td>\n",
       "      <td>12536.24</td>\n",
       "      <td>False</td>\n",
       "    </tr>\n",
       "    <tr>\n",
       "      <th>2</th>\n",
       "      <td>31</td>\n",
       "      <td>30</td>\n",
       "      <td>2621.70</td>\n",
       "      <td>False</td>\n",
       "    </tr>\n",
       "    <tr>\n",
       "      <th>3</th>\n",
       "      <td>36</td>\n",
       "      <td>92</td>\n",
       "      <td>29277.00</td>\n",
       "      <td>False</td>\n",
       "    </tr>\n",
       "    <tr>\n",
       "      <th>4</th>\n",
       "      <td>35</td>\n",
       "      <td>4</td>\n",
       "      <td>19932.02</td>\n",
       "      <td>False</td>\n",
       "    </tr>\n",
       "    <tr>\n",
       "      <th>...</th>\n",
       "      <td>...</td>\n",
       "      <td>...</td>\n",
       "      <td>...</td>\n",
       "      <td>...</td>\n",
       "    </tr>\n",
       "    <tr>\n",
       "      <th>2950985</th>\n",
       "      <td>36</td>\n",
       "      <td>3</td>\n",
       "      <td>12.86</td>\n",
       "      <td>False</td>\n",
       "    </tr>\n",
       "    <tr>\n",
       "      <th>2950986</th>\n",
       "      <td>42</td>\n",
       "      <td>60</td>\n",
       "      <td>431.20</td>\n",
       "      <td>False</td>\n",
       "    </tr>\n",
       "    <tr>\n",
       "      <th>2950987</th>\n",
       "      <td>39</td>\n",
       "      <td>32</td>\n",
       "      <td>4127.35</td>\n",
       "      <td>False</td>\n",
       "    </tr>\n",
       "    <tr>\n",
       "      <th>2950988</th>\n",
       "      <td>43</td>\n",
       "      <td>92</td>\n",
       "      <td>88056.65</td>\n",
       "      <td>False</td>\n",
       "    </tr>\n",
       "    <tr>\n",
       "      <th>2950989</th>\n",
       "      <td>35</td>\n",
       "      <td>95</td>\n",
       "      <td>62831.98</td>\n",
       "      <td>False</td>\n",
       "    </tr>\n",
       "  </tbody>\n",
       "</table>\n",
       "<p>2950990 rows × 4 columns</p>\n",
       "</div>"
      ],
      "text/plain": [
       "         Store  Dept  Weekly_Sales  IsHoliday\n",
       "0           35     6       2002.85      False\n",
       "1           33    79      12536.24      False\n",
       "2           31    30       2621.70      False\n",
       "3           36    92      29277.00      False\n",
       "4           35     4      19932.02      False\n",
       "...        ...   ...           ...        ...\n",
       "2950985     36     3         12.86      False\n",
       "2950986     42    60        431.20      False\n",
       "2950987     39    32       4127.35      False\n",
       "2950988     43    92      88056.65      False\n",
       "2950989     35    95      62831.98      False\n",
       "\n",
       "[2950990 rows x 4 columns]"
      ]
     },
     "execution_count": 45,
     "metadata": {},
     "output_type": "execute_result"
    }
   ],
   "source": [
    "weekly_sales = pd.DataFrame(rows, columns=['Store','Dept','Weekly_Sales','IsHoliday'])\n",
    "weekly_sales"
   ]
  },
  {
   "cell_type": "code",
   "execution_count": 46,
   "metadata": {},
   "outputs": [],
   "source": [
    "n100 = 100\n",
    "weekly_sales_bootstrap_100 = weekly_sales.iloc[np.random.randint(n100, size=n100)]"
   ]
  },
  {
   "cell_type": "code",
   "execution_count": 47,
   "metadata": {},
   "outputs": [
    {
     "name": "stdout",
     "output_type": "stream",
     "text": [
      "Average result for dataset size 100:     Store  Dept  Weekly_Sales  IsHoliday\n",
      "57   31.0  60.0        369.00        0.0\n",
      "68   39.0  30.0       4272.62        0.0\n",
      "50   39.0  28.0       1372.38        0.0\n",
      "30   35.0   1.0      25693.46        0.0\n",
      "11   39.0  23.0      20056.26        0.0\n",
      "..    ...   ...           ...        ...\n",
      "60   32.0  38.0      66073.32        0.0\n",
      "43   33.0  60.0         45.00        0.0\n",
      "40   31.0  33.0       4996.80        0.0\n",
      "20   29.0  30.0       2593.19        0.0\n",
      "49   29.0  41.0        254.00        0.0\n",
      "\n",
      "[100 rows x 4 columns]\n"
     ]
    }
   ],
   "source": [
    "#100\n",
    "\n",
    "dataset_sizes = [100]  # Example list of dataset sizes\n",
    "\n",
    "num_iterations = 50  # Number of simulation iterations\n",
    "\n",
    "for size in dataset_sizes:\n",
    "    results = []\n",
    "    for _ in range(num_iterations):\n",
    "        # Generate or load dataset of the specified size\n",
    "        dataset = [weekly_sales_bootstrap_100 for _ in range(size)]\n",
    "        \n",
    "        # Perform simulation or calculations on the dataset\n",
    "        # (replace this with your specific task)\n",
    "        result = sum(dataset) / len(dataset)  # Example calculation\n",
    "        \n",
    "        results.append(result)\n",
    "        \n",
    "        Small_results = result\n",
    "\n",
    "    # Analyze the results for the current dataset size\n",
    "    avg_result = sum(results) / len(results)\n",
    "    print(f\"Average result for dataset size {size}: {avg_result}\")"
   ]
  },
  {
   "cell_type": "code",
   "execution_count": 48,
   "metadata": {},
   "outputs": [
    {
     "data": {
      "text/plain": [
       "11534.6409"
      ]
     },
     "execution_count": 48,
     "metadata": {},
     "output_type": "execute_result"
    }
   ],
   "source": [
    "Small_results[\"Weekly_Sales\"].mean()"
   ]
  },
  {
   "cell_type": "code",
   "execution_count": 49,
   "metadata": {},
   "outputs": [
    {
     "data": {
      "image/png": "[encoded data removed]",
      "text/plain": [
       "<Figure size 640x480 with 1 Axes>"
      ]
     },
     "metadata": {},
     "output_type": "display_data"
    }
   ],
   "source": [
    "boxplot = Small_results.boxplot(column=['Weekly_Sales']) "
   ]
  },
  {
   "cell_type": "code",
   "execution_count": 50,
   "metadata": {},
   "outputs": [],
   "source": [
    "n500 = 500\n",
    "weekly_sales_bootstrap_500 = weekly_sales.iloc[np.random.randint(n500, size=n500)]"
   ]
  },
  {
   "cell_type": "code",
   "execution_count": 51,
   "metadata": {},
   "outputs": [
    {
     "name": "stdout",
     "output_type": "stream",
     "text": [
      "Average result for dataset size 500:      Store  Dept  Weekly_Sales  IsHoliday\n",
      "455   43.0   5.0        700.52        0.0\n",
      "182   38.0  38.0      66530.78        0.0\n",
      "51    29.0  93.0       1350.64        0.0\n",
      "47    30.0  31.0         26.50        0.0\n",
      "322    1.0  18.0      17934.28        0.0\n",
      "..     ...   ...           ...        ...\n",
      "110   34.0  38.0      40344.49        0.0\n",
      "266    8.0  34.0       7032.21        0.0\n",
      "436    3.0  20.0       1601.47        0.0\n",
      "165   30.0  93.0      23674.79        0.0\n",
      "458   44.0  28.0         64.41        0.0\n",
      "\n",
      "[500 rows x 4 columns]\n"
     ]
    }
   ],
   "source": [
    "#500\n",
    "\n",
    "dataset_sizes = [500]  # Example list of dataset sizes\n",
    "\n",
    "num_iterations = 50  # Number of simulation iterations\n",
    "\n",
    "for size in dataset_sizes:\n",
    "    results = []\n",
    "    for _ in range(num_iterations):\n",
    "        # Generate or load dataset of the specified size\n",
    "        dataset = [weekly_sales_bootstrap_500 for _ in range(size)]\n",
    "        \n",
    "        # Perform simulation or calculations on the dataset\n",
    "        # (replace this with your specific task)\n",
    "        result = sum(dataset) / len(dataset)  # Example calculation\n",
    "        \n",
    "        results.append(result)\n",
    "        \n",
    "        Large_results = result\n",
    "\n",
    "    # Analyze the results for the current dataset size\n",
    "    avg_result = sum(results) / len(results)\n",
    "    print(f\"Average result for dataset size {size}: {avg_result}\")"
   ]
  },
  {
   "cell_type": "code",
   "execution_count": 52,
   "metadata": {},
   "outputs": [
    {
     "data": {
      "text/plain": [
       "13605.456119999988"
      ]
     },
     "execution_count": 52,
     "metadata": {},
     "output_type": "execute_result"
    }
   ],
   "source": [
    "Large_results[\"Weekly_Sales\"].mean()"
   ]
  },
  {
   "cell_type": "code",
   "execution_count": 53,
   "metadata": {},
   "outputs": [
    {
     "data": {
      "image/png": "[encoded data removed]",
      "text/plain": [
       "<Figure size 640x480 with 1 Axes>"
      ]
     },
     "metadata": {},
     "output_type": "display_data"
    }
   ],
   "source": [
    "boxplot = Large_results.boxplot(column=['Weekly_Sales']) "
   ]
  }
 ],
 "metadata": {
  "anaconda-cloud": {},
  "kernelspec": {
   "display_name": "Python 3 (ipykernel)",
   "language": "python",
   "name": "python3"
  },
  "language_info": {
   "codemirror_mode": {
    "name": "ipython",
    "version": 3
   },
   "file_extension": ".py",
   "mimetype": "text/x-python",
   "name": "python",
   "nbconvert_exporter": "python",
   "pygments_lexer": "ipython3",
   "version": "3.8.5"
  }
 },
 "nbformat": 4,
 "nbformat_minor": 1
}
